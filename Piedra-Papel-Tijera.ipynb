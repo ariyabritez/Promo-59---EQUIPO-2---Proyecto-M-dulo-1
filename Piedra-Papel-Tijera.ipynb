{
 "cells": [
  {
   "cell_type": "markdown",
   "id": "11158c0b",
   "metadata": {},
   "source": [
    "#ESTABLECER LOGICA DEL JUEGO\n",
    "- Puntos objetivos para ganar el juego: 3 puntos.\n",
    "- Implementar una función que que obtenga la opcion del jugador (input) y que valide la opcion (si no elige ninguna de las 3 opciones, \"opción no valida, prueba una de las 3 opciones)\n",
    "- Utilizar while para llevar un registro (Cuando el contador \"Juegos ganados = 3) Finaliza el juego y gana ese jugador\n",
    "- La eleccion del segundo jugador será aleatoria (con random).\n",
    "- Ganador de cada ronda, y actualizar los puntos.\n",
    "- Verificar que añguno de los jugadores llega a los puntos objetivos y ahí acaba el juegp."
   ]
  },
  {
   "cell_type": "markdown",
   "id": "9caadcda",
   "metadata": {},
   "source": [
    "1. Va a ver 2 jugadores:\n",
    "- jugador 1: el usuario. Dara su opción mediante un input\n",
    "- jugador 2: el ordenador, su eleccion será aleatoria (random)\n",
    "2. Cada jugador puede elegir entre las 3 opciones (piedra, papel o tijera). Si elige una opción que no es ninguna de estas 3, deberemos avisarle de que la opción elegida no es valida, y que elija una de las 3 opciones.\n",
    "3. Para entablecer el resultado, tenemos que entender que las reglas del juego son:\n",
    "-   Piedra > Tijera\n",
    "-   Papel > Piedra\n",
    "-   Tijera > Papel\n",
    "-   Opcion J1 = Opcion J2 ---> Empate\n",
    "De modo que si:\n",
    "    - Jugador 1 == Jugador 2: Empate\n",
    "    - Jugador 1 == Piedra y Jugador 2 == Tijera: gana partida J1\n",
    "    - Jugador 1 == Papel y Jugador 2 == Piedra: gana partida J1\n",
    "    - Jugador 1 == Tijera y Jugador 2 ==Papel: gana partida J1\n",
    "    - Si no se cumple lo anterior: gana partida J2\n",
    "4. Cada juego se acaba cuando uno de los 2 jugadores gane 3 partidas. Por tanto, cada partida ganada suma un punto (+1 pto) al jugador que la gane.\n",
    "- El juego debe iniciar con:\n",
    "    contador_jugador1 = 0\n",
    "    contador_jugador2 = 0\n",
    "- El juego se ejecutara mientras contador_jugador1 <3 y contador_jugador2 <3 (usamos bucle while que se detendrá cuando:)\n",
    "- Si contador_jugador1 = 3: \"ENHORABUENA, HAS GANADO EL JUEGO\"\n",
    "- Si contador_jugador2 = 3: \"LO SIENTO, HAS PERDIDO EL JUEGO\"\n",
    "- ¿Opción de jugar otra vez?\n",
    "5. Teniendo estos puntos claros, ordenamos la logica:\n",
    ". Definimos una función donde los argumentos sean, eleccion_jugador1 y eleccion_jugador 2.\n",
    ". Establecemos las reglas.\n",
    ". Contador_jugador1 = 0\n",
    ". Contador_jugador2 = 0\n",
    "Mientras (while) contador_jugador1 < 3 y contador_jugador2 <3:\n",
    "- Pedir opción (input) al J1: piedra, papel o tijera (Si da una opción no valida, pedir que de una valida) \n",
    "- Generar opción aleatoria J2 (random)\n",
    "- Monstrar ambas opciones:\n",
    "    - Si: Jugador1 = Jugador2: EMPATE\n",
    "    - Si no: \n",
    "        - Jugador1 GANA jugador2\n",
    "        - contador_jugador1 += 1\n",
    "    - Si no:\n",
    "        - Jugador2 GANA jugador1\n",
    "        - contador_jugador2 += 1\n",
    "\n",
    "Cuando FINALICE (una de los jugadores ha llegado a 3 ptos)\n",
    "- Si contador_jugador1 = 3 \"¡ENHORABUENA! ERES EL GANADOR\"\n",
    "- Si contador_jugador2 = 3 \"¡OH NO! TE HA GANADO UNA MAQUINA.\"\n",
    "- ¿Opción volver a jugar?\n",
    "\n"
   ]
  },
  {
   "cell_type": "code",
   "execution_count": null,
   "id": "2a11edbf",
   "metadata": {},
   "outputs": [],
   "source": [
    "import random #importamos la libreria random\n"
   ]
  },
  {
   "cell_type": "code",
   "execution_count": null,
   "id": "c27cd1be",
   "metadata": {},
   "outputs": [],
   "source": [
    "def jugar_ppt (eleccion_j1, eleccion_j2)\n",
    "    if eleccion_j1 == eleccion_j2\n",
    "        return \"empate\"\n",
    "    elif eleccion_j1 == \"piedra\" and eleccion_j2 == \"tijera\":\n",
    "        return \"gana jugador 1\"\n",
    "    elif eleccion_j1 == \"papel\" and eleccion_j2 == \"piedra\":\n",
    "        return \"gana jugador 1\"\n",
    "    elif eleccion_j1 == \"tijera\" and eleccion_j2 == \"papel\":\n",
    "        return \"gana jugador 1\"\n",
    "    else:\n",
    "        return \"gana jugador 2\"\n",
    "contador_j1 = 0\n",
    "contador_j2 = 0\n",
    "opciones = [\"piedra\", \"papel\", \"tijera\"]\n",
    "while contador_j1 < 3 and contador_j2 <3:\n",
    "    eleccion_j1 = input(\"elije unas de las tres opcion: piedra, papel o tijera\").lower()\n",
    "    if eleccion_j1 is not opciones:\n",
    "        print(\"elige una opción valida\")\n",
    "        continue \n",
    "    eleccion_j2 = random.choice (opciones)\n",
    "    print(eleccion_j2)\n",
    "\n",
    "    resultado = jugar_ppt (eleccion_j1,eleccion_j2)\n",
    "    if resultado == \"gana jugador 1\":\n",
    "        contador_j1 += 1\n",
    "    elif resultado == \"gana jugador 2\":\n",
    "        contador_j2 += 1\n",
    "    else:\n",
    "        print(\"Empate\")\n",
    "if contador_j1 = 3\n",
    "    return \"ENHORABUENA, GANASTE!\"\n",
    "else:\n",
    "    return \"OH NO! TE HA GANADO UNA MAQUINA\"\n",
    "\n",
    "\n",
    "    \n",
    "\n",
    "\n"
   ]
  }
 ],
 "metadata": {
  "kernelspec": {
   "display_name": "Python 3",
   "language": "python",
   "name": "python3"
  },
  "language_info": {
   "codemirror_mode": {
    "name": "ipython",
    "version": 3
   },
   "file_extension": ".py",
   "mimetype": "text/x-python",
   "name": "python",
   "nbconvert_exporter": "python",
   "pygments_lexer": "ipython3",
   "version": "3.13.7"
  }
 },
 "nbformat": 4,
 "nbformat_minor": 5
}
