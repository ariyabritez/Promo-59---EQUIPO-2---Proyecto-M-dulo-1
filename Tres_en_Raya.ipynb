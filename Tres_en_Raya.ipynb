{
 "cells": [
  {
   "cell_type": "markdown",
   "id": "bf53d322",
   "metadata": {},
   "source": [
    "## Tes en Raya con INTERFAZ"
   ]
  },
  {
   "cell_type": "code",
   "execution_count": null,
   "id": "28661d0f",
   "metadata": {},
   "outputs": [],
   "source": [
    "import tkinter as tk\n",
    "from PIL import Image, ImageTk\n",
    "import os\n",
    "\n",
    "# Variables Globales\n",
    "turno = \"X\"  # X empieza\n",
    "tablero = [\"\"] * 9  # 9 celdas vacías\n",
    "jugador1 = \"X\"\n",
    "jugador2 = \"O\"\n",
    "\n",
    "# Logica del juego\n",
    "def iniciar_juego():\n",
    "    global tablero, turno\n",
    "    tablero = [\"\"] * 9\n",
    "    turno = \"X\"\n",
    "    mensaje_turno.config(text=f\"Turno: {turno}\")\n",
    "    for boton in botones:\n",
    "        boton.config(text=\"\", state=\"normal\", bg=\"#393E46\")\n",
    "    frame_inicio.pack_forget()\n",
    "    frame_juego.pack(pady=20)\n",
    "\n",
    "\n"
   ]
  }
 ],
 "metadata": {
  "kernelspec": {
   "display_name": "Python 3",
   "language": "python",
   "name": "python3"
  },
  "language_info": {
   "codemirror_mode": {
    "name": "ipython",
    "version": 3
   },
   "file_extension": ".py",
   "mimetype": "text/x-python",
   "name": "python",
   "nbconvert_exporter": "python",
   "pygments_lexer": "ipython3",
   "version": "3.13.7"
  }
 },
 "nbformat": 4,
 "nbformat_minor": 5
}
