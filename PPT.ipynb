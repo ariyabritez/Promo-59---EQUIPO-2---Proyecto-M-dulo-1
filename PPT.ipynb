{
 "cells": [
  {
   "cell_type": "code",
   "execution_count": null,
   "id": "8ddc53a4",
   "metadata": {},
   "outputs": [],
   "source": [
    "import random\n",
    "\n",
    "def jugar():\n",
    "    print(\"Bienvenidas a Piedra, Papel o Tijera!\")\n",
    "    opciones = [\"piedra\", \"papel\", \"tijera\"]\n",
    "    \n",
    "    puntos_jugador1 = 0\n",
    "    puntos_jugador2 = 0\n",
    "    \n",
    "    \n",
    "    modo =input(\"Escribe UNA para 1 jugadora o DOS para 2 jugadoras y presiona Enter: \").lower()\n",
    "    \n",
    "    if modo == \"una\":\n",
    "        nombre_jugador1 = input(\"Ingresa tu nombre: \")\n",
    "        nombre_jugador2 = \"Computadora\"\n",
    "    elif modo == \"dos\":\n",
    "        nombre_jugador1 = input(\"Jugador 1, ingresa tu nombre: \")\n",
    "        nombre_jugador2 = input(\"Jugador 2, ingresa tu nombre: \")\n",
    "    else:\n",
    "        print(\"Modo no válido. Por favor, reinicia el juego.\")\n",
    "        return\n",
    "\n",
    "    while puntos_jugador1 < 3 and puntos_jugador2 < 3:\n",
    "        \n",
    "        eleccion_jugador1 = input(f\"{nombre_jugador1}, elige piedra, papel o tijera (o escribe 'salir' para terminar): \").lower()\n",
    "        if eleccion_jugador1 == \"salir\":\n",
    "            print(\"Gracias por jugar!\")\n",
    "            break\n",
    "        if eleccion_jugador1 not in opciones:\n",
    "            print(\"Elección no válida. Intenta de nuevo.\")\n",
    "            continue\n",
    "        \n",
    "        if modo == \"una\":\n",
    "            eleccion_jugador2 = random.choice(opciones)\n",
    "            print(f\"La computadora eligió: {eleccion_jugador2}\")\n",
    "        else:\n",
    "            eleccion_jugador2 = input(f\"{nombre_jugador2}, elige piedra, papel o tijera: \").lower()\n",
    "            if eleccion_jugador2 not in opciones:\n",
    "                print(\"Elección no válida. Intenta de nuevo.\")\n",
    "                continue\n",
    "        \n",
    "        if eleccion_jugador1 == eleccion_jugador2:\n",
    "            print(\"Empate!\")\n",
    "        elif (eleccion_jugador1 == \"piedra\" and eleccion_jugador2 == \"tijera\") or (eleccion_jugador1 == \"papel\" and eleccion_jugador2 == \"piedra\") or (eleccion_jugador1 == \"tijeras\" and eleccion_jugador2 == \"papel\"):\n",
    "            puntos_jugador1 += 1\n",
    "            print(f\"{nombre_jugador1} gana esta ronda!\")\n",
    "        else:\n",
    "            puntos_jugador2 += 1\n",
    "            print(f\"{nombre_jugador2} gana esta ronda!\")        \n",
    "        print(f\"Puntuación: {nombre_jugador1} {puntos_jugador1} - {nombre_jugador2} {puntos_jugador2}\\n\")\n",
    "        \n",
    "        if puntos_jugador1 == 3:\n",
    "            print(f\"{nombre_jugador1} gana la partida\")\n",
    "            break\n",
    "        if puntos_jugador2 == 3:\n",
    "            print(f\"{nombre_jugador2} gana la partida\")\n",
    "            break\n",
    "    return print(\"Fin del juego!\")\n",
    "\n",
    "    \n",
    "    \n",
    "\n",
    "\n",
    "        \n",
    "        \n"
   ]
  },
  {
   "cell_type": "code",
   "execution_count": 20,
   "id": "67350093",
   "metadata": {},
   "outputs": [
    {
     "name": "stdout",
     "output_type": "stream",
     "text": [
      "Bienvenidas a Piedra, Papel o Tijera!\n",
      "maria gana esta ronda!\n",
      "Puntuación: maria 1 - lola 0\n",
      "\n",
      "maria gana esta ronda!\n",
      "Puntuación: maria 2 - lola 0\n",
      "\n",
      "maria gana esta ronda!\n",
      "Puntuación: maria 3 - lola 0\n",
      "\n",
      "maria gana la partida\n",
      "Fin del juego!\n"
     ]
    }
   ],
   "source": [
    "jugar()"
   ]
  },
  {
   "cell_type": "code",
   "execution_count": null,
   "id": "03edac69",
   "metadata": {},
   "outputs": [],
   "source": [
    "        "
   ]
  }
 ],
 "metadata": {
  "kernelspec": {
   "display_name": "Python 3",
   "language": "python",
   "name": "python3"
  },
  "language_info": {
   "codemirror_mode": {
    "name": "ipython",
    "version": 3
   },
   "file_extension": ".py",
   "mimetype": "text/x-python",
   "name": "python",
   "nbconvert_exporter": "python",
   "pygments_lexer": "ipython3",
   "version": "3.13.7"
  }
 },
 "nbformat": 4,
 "nbformat_minor": 5
}
