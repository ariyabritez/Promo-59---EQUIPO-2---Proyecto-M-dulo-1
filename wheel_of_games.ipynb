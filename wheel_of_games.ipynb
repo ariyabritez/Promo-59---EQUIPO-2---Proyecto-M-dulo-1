{
 "cells": [
  {
   "cell_type": "code",
   "execution_count": null,
   "id": "aa826e97",
   "metadata": {},
   "outputs": [
    {
     "name": "stdout",
     "output_type": "stream",
     "text": [
      "¡RULETA DEMO! ¿Qué juego vamos a presentar🤷‍♀️?\n",
      "----------------------------------------\n",
      "\n",
      "► Os presentamos nuestra versión del juego Ahorcado☠️ presentado por Fabi y Julia\n",
      "\n",
      "► Os presentamos nuestra versión del juego Preguntas y respuestas❓💡 presentado por Ruth\n",
      "\n",
      "► Os presentamos nuestra versión del juego Piedra, papel o tijera🪨🗞️✂️ presentado por Tami\n",
      "----------------------------------------\n",
      "Aquí no acaban nuestros juegos...¡¡tenemos un BONUS😁🎁!!\n"
     ]
    }
   ],
   "source": [
    "import random\n",
    "\n",
    "JUEGOS = [\n",
    "    (\"Piedra, papel o tijera🪨🗞️✂️\", \"Tami\"),\n",
    "    (\"Ahorcado☠️\", \"Fabi y Julia\"),\n",
    "    (\"Preguntas y respuestas❓💡\", \"Ruth\")\n",
    "]\n",
    "# Bonus\n",
    "BONUS = (\"Tic tac toe❌⭕\", \"Galia\")\n",
    "\n",
    "usados = []\n",
    "\n",
    "def girar_ruleta():\n",
    "    global usados\n",
    "    restantes = [j for j in JUEGOS if j not in usados]\n",
    "    if restantes:\n",
    "        elegido = random.choice(restantes)\n",
    "        usados.append(elegido)\n",
    "        print(f\"\\n► Os presentamos nuestra versión del juego\n",
    "              \n",
    "               {elegido[0]} presentado por {elegido[1]}\")\n",
    "    else:\n",
    "        print(f\"\\n🟣 BONUS: ¡Y de regalo...🎁! {BONUS[0]} presentado por {BONUS[1]}\")\n",
    "        \n",
    "if __name__ == \"__main__\":\n",
    "    print(\"¡RULETA DEMO! ¿Qué juego vamos a presentar🤷‍♀️?\")\n",
    "    print(\"-\" * 40)\n",
    "    while True:\n",
    "        input(\"Pulsa ENTER para hacer una tirada...\")\n",
    "        girar_ruleta()\n",
    "        # Cuando ya han salido TODOS, detiene el bucle después del bonus\n",
    "        if len(usados) == len(JUEGOS):\n",
    "            break\n",
    "    print(\"-\" * 40)\n",
    "    print(\"Aquí no acaban nuestros juegos...¡¡tenemos un BONUS😁🎁!!\")"
   ]
  }
 ],
 "metadata": {
  "kernelspec": {
   "display_name": "Python (jupyter)",
   "language": "python",
   "name": "base"
  },
  "language_info": {
   "codemirror_mode": {
    "name": "ipython",
    "version": 3
   },
   "file_extension": ".py",
   "mimetype": "text/x-python",
   "name": "python",
   "nbconvert_exporter": "python",
   "pygments_lexer": "ipython3",
   "version": "3.13.9"
  }
 },
 "nbformat": 4,
 "nbformat_minor": 5
}
