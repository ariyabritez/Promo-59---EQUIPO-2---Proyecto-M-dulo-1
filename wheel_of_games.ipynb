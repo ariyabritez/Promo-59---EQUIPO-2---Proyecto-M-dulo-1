{
 "cells": [
  {
   "cell_type": "code",
   "execution_count": 2,
   "id": "aa826e97",
   "metadata": {},
   "outputs": [
    {
     "name": "stdout",
     "output_type": "stream",
     "text": [
      "¡RULETA DEMO! ¿Qué juego vamos a presentar🤷‍♀️?\n",
      "----------------------------------------\n",
      "\n",
      " Os presentamos nuestra versión del juego Preguntas y respuestas❓💡 presentado por Ruth\n",
      "\n",
      " Os presentamos nuestra versión del juego Ahorcado☠️ presentado por Fabi y Galia\n",
      "\n",
      " Os presentamos nuestra versión del juego Piedra, papel o tijera🪨🗞️✂️ presentado por Julia y Tami\n",
      "----------------------------------------\n",
      "Aquí no acaban nuestros juegos...¡¡tenemos un BONUS😁🎁!!\n"
     ]
    }
   ],
   "source": [
    "import random\n",
    "\n",
    "JUEGOS = [\n",
    "    (\"Piedra, papel o tijera🪨🗞️✂️\", \"Julia y Tami\"),\n",
    "    (\"Ahorcado☠️\", \"Fabi y Galia\"),\n",
    "    (\"Preguntas y respuestas❓💡\", \"Ruth\")\n",
    "]\n",
    "# Bonus\n",
    "BONUS = (\"Tic tac toe❌⭕\", \"Galia y Julia\")\n",
    "\n",
    "usados = []\n",
    "\n",
    "def girar_ruleta():\n",
    "    global usados\n",
    "    restantes = [j for j in JUEGOS if j not in usados]\n",
    "    if restantes:\n",
    "        elegido = random.choice(restantes)\n",
    "        usados.append(elegido)\n",
    "        print(f\"\\n Os presentamos nuestra versión del juego {elegido[0]} presentado por {elegido[1]}\")\n",
    "    else:\n",
    "        print(f\"\\n🟣 BONUS: ¡Y de regalo...🎁! {BONUS[0]} presentado por {BONUS[1]}\")\n",
    "        \n",
    "if __name__ == \"__main__\":\n",
    "    print(\"¡RULETA DEMO! ¿Qué juego vamos a presentar🤷‍♀️?\")\n",
    "    print(\"-\" * 40)\n",
    "    while True:\n",
    "        input(\"Pulsa ENTER para hacer una tirada...\")\n",
    "        girar_ruleta()\n",
    "        # Cuando ya han salido TODOS, detiene el bucle después del bonus\n",
    "        if len(usados) == len(JUEGOS):\n",
    "            break\n",
    "    print(\"-\" * 40)\n",
    "    print(\"Aquí no acaban nuestros juegos...¡¡tenemos un BONUS😁🎁!!\")"
   ]
  },
  {
   "cell_type": "code",
   "execution_count": null,
   "id": "8e41d609",
   "metadata": {},
   "outputs": [
    {
     "ename": "",
     "evalue": "",
     "output_type": "error",
     "traceback": [
      "\u001b[1;31mThe Kernel crashed while executing code in the current cell or a previous cell. \n",
      "\u001b[1;31mPlease review the code in the cell(s) to identify a possible cause of the failure. \n",
      "\u001b[1;31mClick <a href='https://aka.ms/vscodeJupyterKernelCrash'>here</a> for more info. \n",
      "\u001b[1;31mView Jupyter <a href='command:jupyter.viewOutput'>log</a> for further details."
     ]
    }
   ],
   "source": [
    "import tkinter as tk\n",
    "import random\n",
    "\n",
    "JUEGOS = [\n",
    "    (\"Piedra, papel o tijera🪨🗞️✂️\", \"Tami\"),\n",
    "    (\"Ahorcado☠️\", \"Fabi y Julia\"),\n",
    "    (\"Preguntas y respuestas❓💡\", \"Ruth\"),\n",
    "]\n",
    "BONUS = (\"Tic tac toe❌⭕\", \"Galia\")\n",
    "\n",
    "class RuletaJuegos:\n",
    "    def __init__(self, root):\n",
    "        self.root = root\n",
    "        self.root.title(\"Ruleta DEMO - Proyecto Juegos\")\n",
    "        self.usados = []\n",
    "\n",
    "        self.titulo = tk.Label(\n",
    "            root, text=\"¡RULETA DEMO! ¿Qué juego vamos a presentar🤷‍♀️?\", font=(\"Arial\", 16, \"bold\"))\n",
    "        self.titulo.pack(pady=20)\n",
    "\n",
    "        self.lbl_resultado = tk.Label(root, text=\"\", font=(\"Arial\", 14))\n",
    "        self.lbl_resultado.pack(pady=20)\n",
    "\n",
    "        self.btn_girar = tk.Button(\n",
    "            root, text=\"Pulsa para hacer una tirada...\", font=(\"Arial\", 14), command=self.girar_ruleta)\n",
    "        self.btn_girar.pack(pady=10)\n",
    "\n",
    "        self.lbl_bonus = tk.Label(root, text=\"\", font=(\"Arial\", 14, \"bold\"))\n",
    "        self.lbl_bonus.pack(pady=20)\n",
    "\n",
    "    def girar_ruleta(self):\n",
    "        restantes = [j for j in JUEGOS if j not in self.usados]\n",
    "        if restantes:\n",
    "            elegido = random.choice(restantes)\n",
    "            self.usados.append(elegido)\n",
    "            self.lbl_resultado.config(\n",
    "                text=f\"\\n► Os presentamos nuestra versión del juego {elegido[0]} presentado por {elegido[1]}\"\n",
    "            )\n",
    "            self.lbl_bonus.config(text=\"\")\n",
    "            if len(self.usados) == len(JUEGOS):\n",
    "                self.btn_girar.config(text=\"¡Descubre el BONUS 🎁!\")\n",
    "        else:\n",
    "            self.lbl_resultado.config(text=\"\")\n",
    "            self.lbl_bonus.config(\n",
    "                text=f\"\\n🟣 BONUS: ¡Y de regalo...🎁! {BONUS[0]} presentado por {BONUS[1]}\"\n",
    "            )\n",
    "            self.btn_girar.config(state=\"disabled\")\n",
    "\n",
    "if __name__ == \"__main__\":\n",
    "    root = tk.Tk()\n",
    "    app = RuletaJuegos(root)\n",
    "    root.mainloop()"
   ]
  }
 ],
 "metadata": {
  "kernelspec": {
   "display_name": "Python 3",
   "language": "python",
   "name": "python3"
  },
  "language_info": {
   "codemirror_mode": {
    "name": "ipython",
    "version": 3
   },
   "file_extension": ".py",
   "mimetype": "text/x-python",
   "name": "python",
   "nbconvert_exporter": "python",
   "pygments_lexer": "ipython3",
   "version": "3.13.7"
  }
 },
 "nbformat": 4,
 "nbformat_minor": 5
}
